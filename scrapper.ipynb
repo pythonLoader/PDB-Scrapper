{
 "metadata": {
  "language_info": {
   "codemirror_mode": {
    "name": "ipython",
    "version": 3
   },
   "file_extension": ".py",
   "mimetype": "text/x-python",
   "name": "python",
   "nbconvert_exporter": "python",
   "pygments_lexer": "ipython3",
   "version": "3.7.6"
  },
  "orig_nbformat": 2,
  "kernelspec": {
   "name": "python376jvsc74a57bd0c2cf386560184a710ad5d3cafa6a31d62eb481477ea124a4f7f47400c707d43b",
   "display_name": "Python 3.7.6 64-bit ('base': conda)"
  }
 },
 "nbformat": 4,
 "nbformat_minor": 2,
 "cells": [
  {
   "cell_type": "code",
   "execution_count": 82,
   "metadata": {
    "tags": []
   },
   "outputs": [],
   "source": [
    "import requests\n",
    "from pprint import pprint\n",
    "from bs4 import BeautifulSoup\n",
    "URL = 'https://www.rcsb.org/structure/7DX9'\n",
    "page = requests.get(URL)\n",
    "import time\n",
    "# pprint(page.content)"
   ]
  },
  {
   "cell_type": "code",
   "execution_count": 131,
   "metadata": {},
   "outputs": [],
   "source": [
    "import requests\n",
    "from pprint import pprint\n",
    "from bs4 import BeautifulSoup\n",
    "\n",
    "def getmetadata(accession):\n",
    "    URL = 'https://www.rcsb.org/structure/'+accession\n",
    "    \n",
    "    start_time = time.time()\n",
    "    page = requests.get(URL)\n",
    "    print(\"Page fetching Time -> \",(time.time() - start_time))\n",
    "\n",
    "    time_ = time.time()\n",
    "    soup = BeautifulSoup(page.content, 'html.parser')\n",
    "    print(\"BS Parsing Time -> \",(time.time() - time_))\n",
    "\n",
    "    structure_title = soup.find(id='structureTitle').text.strip()\n",
    "    # print(structure_title)\n",
    "\n",
    "    deposited_released_date = soup.find(id='header_deposited-released-dates')\n",
    "    # print(deposited_released_date.text.strip())\n",
    "    deposited_released = deposited_released_date.text.strip().split(\":\")\n",
    "    deposited_date = deposited_released[1].split(\"\\xa0\")[1].strip()\n",
    "    released_date = deposited_released[2].split(\"\\xa0\")[1]\n",
    "\n",
    "    # deposited_date = deposited_released[1].split(\"&nbsp\")[1].strip()\n",
    "    # released_date = deposited_released[2].split(\"&nbsp\")[1]\n",
    "    # print(deposited_date,released_date)\n",
    "    emData_Map = soup.find(id=\"header_emdb\")\n",
    "    a_emData = emData_Map.find('a')\n",
    "    emData_id = a_emData.text.strip()\n",
    "    emData_link = a_emData['href']\n",
    "    # print(a_emData_id)\n",
    "\n",
    "    results = soup.find(id='primarycitation')\n",
    "    paper_name = results.find('h4').text.strip()\n",
    "    pubmedDOI = results.find('li', id=\"pubmedDOI\")\n",
    "    if pubmedDOI:\n",
    "        a_paper_link = pubmedDOI.find('a')\n",
    "        a_paper_link = a_paper_link['href']\n",
    "        \n",
    "    else:\n",
    "        a_paper_link = \"Not published yet\"\n",
    "    \n",
    "    # print(paper_name)\n",
    "    # print(a_paper_link)\n",
    "    \n",
    "    # print(a_paper_link['href'])\n",
    "\n",
    "    # abstractText = results.find(id='abstractFull')\n",
    "    # abstractText = abstractText.find('p')\n",
    "    # print(abstractText.text.strip())\n",
    "\n",
    "    return (structure_title,deposited_date,released_date,emData_id, emData_link, paper_name,a_paper_link)\n",
    "\n"
   ]
  },
  {
   "cell_type": "code",
   "execution_count": 132,
   "metadata": {
    "tags": []
   },
   "outputs": [
    {
     "output_type": "stream",
     "name": "stdout",
     "text": [
      "Now working with ->  6X6P\n",
      "Page fetching Time ->  1.3516161441802979\n",
      "BS Parsing Time ->  2.479093313217163\n",
      "Characterization of the SARS-CoV-2 S Protein: Biophysical, Biochemical, Structural, and Antigenic Analysis 2020-05-28 2020-06-10 EMD-22078 https://www.emdataresource.org/EMD-22078 Characterization of the SARS-CoV-2 S Protein: Biophysical, Biochemical, Structural, and Antigenic Analysis. http://dx.doi.org/10.1101/2020.06.14.150607\n",
      "Now working with ->  6X79\n",
      "Page fetching Time ->  1.2540550231933594\n",
      "BS Parsing Time ->  2.5301833152770996\n",
      "Prefusion SARS-CoV-2 S ectodomain trimer covalently stabilized in the closed conformation 2020-05-29 2020-08-19 EMD-22083 https://www.emdataresource.org/EMD-22083 Structure-guided covalent stabilization of coronavirus spike glycoprotein trimers in the closed conformation. http://dx.doi.org/10.1038/s41594-020-0483-8\n",
      "Now working with ->  7BH9\n",
      "Page fetching Time ->  1.296083927154541\n",
      "BS Parsing Time ->  0.06116938591003418\n",
      "SARS-CoV-2 RBD-62 in complex with ACE2 peptidase domain 2021-01-11 2021-02-17 EMD-12187 https://www.emdataresource.org/EMD-12187 SARS-CoV-2 RBD in vitro evolution follows contagious mutation spread, yet generates an able infection inhibitor Not published yet\n",
      "Now working with ->  7BNM\n",
      "Page fetching Time ->  1.2038543224334717\n",
      "BS Parsing Time ->  2.4252214431762695\n",
      "Closed conformation of D614G SARS-CoV-2 spike protein 2021-01-22 2021-02-03 EMD-12229 https://www.emdataresource.org/EMD-12229 The effect of the D614G substitution on the structure of the spike glycoprotein of SARS-CoV-2. http://dx.doi.org/10.1073/pnas.2022586118\n",
      "Now working with ->  7BNN\n",
      "Page fetching Time ->  1.1724913120269775\n",
      "BS Parsing Time ->  2.5752782821655273\n",
      "Open conformation of D614G SARS-CoV-2 spike with 1 Erect RBD 2021-01-22 2021-02-03 EMD-12230 https://www.emdataresource.org/EMD-12230 The effect of the D614G substitution on the structure of the spike glycoprotein of SARS-CoV-2. http://dx.doi.org/10.1073/pnas.2022586118\n",
      "Now working with ->  7BNO\n",
      "Page fetching Time ->  1.3956797122955322\n",
      "BS Parsing Time ->  2.272919178009033\n",
      "Open conformation of D614G SARS-CoV-2 spike with 2 Erect RBDs 2021-01-22 2021-02-03 EMD-12231 https://www.emdataresource.org/EMD-12231 The effect of the D614G substitution on the structure of the spike glycoprotein of SARS-CoV-2. http://dx.doi.org/10.1073/pnas.2022586118\n",
      "Now working with ->  7C2L\n",
      "Page fetching Time ->  1.3902132511138916\n",
      "BS Parsing Time ->  2.965167999267578\n",
      "S protein of SARS-CoV-2 in complex bound with 4A8 2020-05-08 2020-07-01 EMD-30276 https://www.emdataresource.org/EMD-30276 A neutralizing human antibody binds to the N-terminal domain of the Spike protein of SARS-CoV-2. http://dx.doi.org/10.1126/science.abc6952\n",
      "Now working with ->  7C2K\n",
      "Page fetching Time ->  1.6862611770629883\n",
      "BS Parsing Time ->  2.3326733112335205\n",
      "COVID-19 RNA-dependent RNA polymerase pre-translocated catalytic complex 2020-05-07 2020-06-03 EMD-30275 https://www.emdataresource.org/EMD-30275 Structural Basis for RNA Replication by the SARS-CoV-2 Polymerase. http://dx.doi.org/10.1016/j.cell.2020.05.034\n",
      "Now working with ->  7BTF\n",
      "Page fetching Time ->  1.3414278030395508\n",
      "BS Parsing Time ->  2.414821147918701\n",
      "SARS-CoV-2 RNA-dependent RNA polymerase in complex with cofactors in reduced condition 2020-04-01 2020-04-08 EMD-30178 https://www.emdataresource.org/EMD-30178 Structure of the RNA-dependent RNA polymerase from COVID-19 virus. http://dx.doi.org/10.1126/science.abb7498\n",
      "Now working with ->  7BV1\n",
      "Page fetching Time ->  1.4786808490753174\n",
      "BS Parsing Time ->  0.0494542121887207\n",
      "Cryo-EM structure of the apo nsp12-nsp7-nsp8 complex 2020-04-09 2020-04-22 EMD-30209 https://www.emdataresource.org/EMD-30209 Structural basis for inhibition of the RNA-dependent RNA polymerase from SARS-CoV-2 by remdesivir. http://dx.doi.org/10.1126/science.abc1560\n",
      "Now working with ->  7BV2\n",
      "Page fetching Time ->  1.878225326538086\n",
      "BS Parsing Time ->  0.4853978157043457\n",
      "The nsp12-nsp7-nsp8 complex bound to the template-primer RNA and triphosphate form of Remdesivir(RTP) 2020-04-09 2020-04-22 EMD-30210 https://www.emdataresource.org/EMD-30210 Structural basis for inhibition of the RNA-dependent RNA polymerase from SARS-CoV-2 by remdesivir. http://dx.doi.org/10.1126/science.abc1560\n",
      "Now working with ->  7C8D\n",
      "Page fetching Time ->  1.7018020153045654\n",
      "BS Parsing Time ->  1.5168726444244385\n",
      "Cryo-EM structure of cat ACE2 and SARS-CoV-2 RBD 2020-05-29 2020-09-02 EMD-30305 https://www.emdataresource.org/EMD-30305 Broad host range of SARS-CoV-2 and the molecular basis for SARS-CoV-2 binding to cat ACE2. http://dx.doi.org/10.1038/s41421-020-00210-9\n",
      "Now working with ->  7BW4\n",
      "Page fetching Time ->  1.4502594470977783\n",
      "BS Parsing Time ->  0.07168149948120117\n",
      "Structure of the RNA-dependent RNA polymerase from SARS-CoV-2 2020-04-13 2020-05-27 EMD-30226 https://www.emdataresource.org/EMD-30226 Structural and Biochemical Characterization of the nsp12-nsp7-nsp8 Core Polymerase Complex from SARS-CoV-2. http://dx.doi.org/10.1016/j.celrep.2020.107774\n",
      "Now working with ->  7B17\n",
      "Page fetching Time ->  1.3730206489562988\n",
      "BS Parsing Time ->  0.06163144111633301\n",
      "SARS-CoV-spike RBD bound to two neutralising nanobodies 2020-11-23 2021-02-10 EMD-11980 https://www.emdataresource.org/EMD-11980 Structure-guided multivalent nanobodies block SARS-CoV-2 infection and suppress mutational escape. http://dx.doi.org/10.1126/science.abe6230\n",
      "Now working with ->  7B3C\n",
      "Page fetching Time ->  1.6006686687469482\n",
      "BS Parsing Time ->  2.40309739112854\n",
      "Structure of elongating SARS-CoV-2 RNA-dependent RNA polymerase with Remdesivir at position -4 (structure 2) 2020-11-30 2020-12-23 EMD-11994 https://www.emdataresource.org/EMD-11994 Mechanism of SARS-CoV-2 polymerase stalling by remdesivir. http://dx.doi.org/10.1038/s41467-020-20542-0\n",
      "Now working with ->  7B3B\n",
      "Page fetching Time ->  1.3387587070465088\n",
      "BS Parsing Time ->  2.3128902912139893\n",
      "Structure of elongating SARS-CoV-2 RNA-dependent RNA polymerase with Remdesivir at position -3 (structure 1) 2020-11-30 2020-12-23 EMD-11993 https://www.emdataresource.org/EMD-11993 Mechanism of SARS-CoV-2 polymerase stalling by remdesivir. http://dx.doi.org/10.1038/s41467-020-20542-0\n",
      "Now working with ->  7B3D\n",
      "Page fetching Time ->  1.2587006092071533\n",
      "BS Parsing Time ->  2.313932418823242\n",
      "Structure of elongating SARS-CoV-2 RNA-dependent RNA polymerase with AMP at position -4 (structure 3) 2020-11-30 2020-12-23 EMD-11995 https://www.emdataresource.org/EMD-11995 Mechanism of SARS-CoV-2 polymerase stalling by remdesivir. http://dx.doi.org/10.1038/s41467-020-20542-0\n",
      "Now working with ->  7KDJ\n",
      "Page fetching Time ->  1.3451330661773682\n",
      "BS Parsing Time ->  2.4330739974975586\n",
      "SARS-CoV-2 D614G 1-RBD-up Spike Protein Trimer fully cleaved by furin without the P986-P987 stabilizing mutations (S-RRAR-D614G) 2020-10-08 2020-11-04 EMD-22824 https://www.emdataresource.org/EMD-22824 D614G Mutation Alters SARS-CoV-2 Spike Conformation and Enhances Protease Cleavage at the S1/S2 Junction. http://dx.doi.org/10.1016/j.celrep.2020.108630\n",
      "Now working with ->  7KDK\n",
      "Page fetching Time ->  1.2897827625274658\n",
      "BS Parsing Time ->  2.4887945652008057\n",
      "SARS-CoV-2 D614G 3 RBD down Spike Protein Trimer without the P986-P987 stabilizing mutations (S-GSAS-D614G) 2020-10-08 2020-11-04 EMD-22825 https://www.emdataresource.org/EMD-22825 D614G Mutation Alters SARS-CoV-2 Spike Conformation and Enhances Protease Cleavage at the S1/S2 Junction. http://dx.doi.org/10.1016/j.celrep.2020.108630\n",
      "Now working with ->  7KDH\n",
      "Page fetching Time ->  1.4285788536071777\n",
      "BS Parsing Time ->  2.9095540046691895\n",
      "SARS-CoV-2 RBD up Spike Protein Trimer without the P986-P987 stabilizing mutations (S-GSAS) 2020-10-08 2020-11-04 EMD-22822 https://www.emdataresource.org/EMD-22822 D614G Mutation Alters SARS-CoV-2 Spike Conformation and Enhances Protease Cleavage at the S1/S2 Junction. http://dx.doi.org/10.1016/j.celrep.2020.108630\n",
      "Now working with ->  7KDI\n",
      "Page fetching Time ->  6.3309407234191895\n",
      "BS Parsing Time ->  2.5211117267608643\n",
      "SARS-CoV-2 D614G 3 RBD down Spike Protein Trimer fully cleaved by furin without the P986-P987 stabilizing mutations (S-RRAR-D614G) 2020-10-08 2020-11-04 EMD-22823 https://www.emdataresource.org/EMD-22823 D614G Mutation Alters SARS-CoV-2 Spike Conformation and Enhances Protease Cleavage at the S1/S2 Junction. http://dx.doi.org/10.1016/j.celrep.2020.108630\n",
      "Now working with ->  7KDL\n",
      "Page fetching Time ->  1.226466178894043\n",
      "BS Parsing Time ->  2.6400604248046875\n",
      "SARS-CoV-2 D614G 1-RBD up Spike Protein Trimer without the P986-P987 stabilizing mutations (S-GSAS-D614G) 2020-10-08 2020-11-04 EMD-22826 https://www.emdataresource.org/EMD-22826 D614G Mutation Alters SARS-CoV-2 Spike Conformation and Enhances Protease Cleavage at the S1/S2 Junction. http://dx.doi.org/10.1016/j.celrep.2020.108630\n",
      "Now working with ->  7KDG\n",
      "Page fetching Time ->  1.1932306289672852\n",
      "BS Parsing Time ->  2.4217162132263184\n",
      "SARS-CoV-2 RBD down Spike Protein Trimer without the P986-P987 stabilizing mutations (S-GSAS) 2020-10-08 2020-11-04 EMD-22821 https://www.emdataresource.org/EMD-22821 D614G Mutation Alters SARS-CoV-2 Spike Conformation and Enhances Protease Cleavage at the S1/S2 Junction. http://dx.doi.org/10.1016/j.celrep.2020.108630\n",
      "Now working with ->  7KEC\n",
      "Page fetching Time ->  1.2070999145507812\n",
      "BS Parsing Time ->  2.434335231781006\n",
      "SARS-CoV-2 D614G 1-RBD-up Spike Protein Trimer without the P986-P987 stabilizing mutations (S-GSAS-D614G Sub-Classification) 2020-10-10 2020-11-04 EMD-22838 https://www.emdataresource.org/EMD-22838 D614G Mutation Alters SARS-CoV-2 Spike Conformation and Enhances Protease Cleavage at the S1/S2 Junction. http://dx.doi.org/10.1016/j.celrep.2020.108630\n",
      "Now working with ->  7KEA\n",
      "Page fetching Time ->  1.7427630424499512\n",
      "BS Parsing Time ->  2.4437522888183594\n",
      "SARS-CoV-2 D614G 1-RBD-up Spike Protein Trimer without the P986-P987 stabilizing mutations (S-GSAS-D614G sub classification) 2020-10-10 2020-11-04 EMD-22836 https://www.emdataresource.org/EMD-22836 D614G Mutation Alters SARS-CoV-2 Spike Conformation and Enhances Protease Cleavage at the S1/S2 Junction. http://dx.doi.org/10.1016/j.celrep.2020.108630\n",
      "Now working with ->  7KEB\n",
      "Page fetching Time ->  1.2867827415466309\n",
      "BS Parsing Time ->  2.458242177963257\n",
      "SARS-CoV-2 D614G 1RBD up Spike Protein Trimer without the P986-P987 stabilizing mutations (S-GSAS-D614G sub-classification) 2020-10-10 2020-11-04 EMD-22837 https://www.emdataresource.org/EMD-22837 D614G Mutation Alters SARS-CoV-2 Spike Conformation and Enhances Protease Cleavage at the S1/S2 Junction. http://dx.doi.org/10.1016/j.celrep.2020.108630\n",
      "Now working with ->  7KE9\n",
      "Page fetching Time ->  1.2209181785583496\n",
      "BS Parsing Time ->  2.5338094234466553\n",
      "SARS-CoV-2 D614G 1-RBD-up Spike Protein Trimer without the P986-P987 stabilizing mutations (S-GSAS-D614G sub-classification) 2020-10-10 2020-11-04 EMD-22835 https://www.emdataresource.org/EMD-22835 D614G Mutation Alters SARS-CoV-2 Spike Conformation and Enhances Protease Cleavage at the S1/S2 Junction. http://dx.doi.org/10.1016/j.celrep.2020.108630\n",
      "Now working with ->  7KE4\n",
      "Page fetching Time ->  1.3268709182739258\n",
      "BS Parsing Time ->  2.511042594909668\n",
      "SARS-CoV-2 D614G 3 RBD down Spike Protein Trimer without the P986-P987 stabilizing mutations (S-GSAS-D614G Sub-class) 2020-10-10 2020-11-04 EMD-22831 https://www.emdataresource.org/EMD-22831 D614G Mutation Alters SARS-CoV-2 Spike Conformation and Enhances Protease Cleavage at the S1/S2 Junction. http://dx.doi.org/10.1016/j.celrep.2020.108630\n",
      "Now working with ->  7KE7\n",
      "Page fetching Time ->  1.9466278553009033\n",
      "BS Parsing Time ->  2.5191266536712646\n",
      "SARS-CoV-2 D614G 3-RBD-down Spike Protein Trimer without the P986-P987 stabilizing mutations (S-GSAS-D614G Sub-Classification) 2020-10-10 2020-11-04 EMD-22833 https://www.emdataresource.org/EMD-22833 D614G Mutation Alters SARS-CoV-2 Spike Conformation and Enhances Protease Cleavage at the S1/S2 Junction. http://dx.doi.org/10.1016/j.celrep.2020.108630\n",
      "Now working with ->  7KE8\n",
      "Page fetching Time ->  1.2275991439819336\n",
      "BS Parsing Time ->  2.437224864959717\n",
      "SARS-CoV-2 D614G 3 RBD down Spike Protein Trimer without the P986-P987 stabilizing mutations (S-GSAS-D614G sub-classification) 2020-10-10 2020-11-04 EMD-22834 https://www.emdataresource.org/EMD-22834 D614G Mutation Alters SARS-CoV-2 Spike Conformation and Enhances Protease Cleavage at the S1/S2 Junction. http://dx.doi.org/10.1016/j.celrep.2020.108630\n",
      "Now working with ->  7KDT\n",
      "Page fetching Time ->  1.171095609664917\n",
      "BS Parsing Time ->  0.07462835311889648\n",
      "Human Tom70 in complex with SARS CoV2 Orf9b 2020-10-09 2020-10-21 EMD-22829 https://www.emdataresource.org/EMD-22829 Comparative host-coronavirus protein interaction networks reveal pan-viral disease mechanisms. http://dx.doi.org/10.1126/science.abe9403\n",
      "Now working with ->  7KE6\n",
      "Page fetching Time ->  1.2872974872589111\n",
      "BS Parsing Time ->  2.4838106632232666\n",
      "SARS-CoV-2 D614G 3 RBD down Spike Protein Trimer without the P986-P987 stabilizing mutations (S-GSAS-D614G sub-classification) 2020-10-10 2020-11-04 EMD-22832 https://www.emdataresource.org/EMD-22832 D614G Mutation Alters SARS-CoV-2 Spike Conformation and Enhances Protease Cleavage at the S1/S2 Junction. http://dx.doi.org/10.1016/j.celrep.2020.108630\n",
      "Now working with ->  7KJ4\n",
      "Page fetching Time ->  1.4482660293579102\n",
      "BS Parsing Time ->  1.9886953830718994\n",
      "SARS-CoV-2 Spike Glycoprotein with three ACE2 Bound 2020-10-25 2020-11-11 EMD-22893 https://www.emdataresource.org/EMD-22893 A trimeric human angiotensin-converting enzyme 2 as an anti-SARS-CoV-2 agent. http://dx.doi.org/10.1038/s41594-020-00549-3\n",
      "Now working with ->  7KJ5\n",
      "Page fetching Time ->  6.236830234527588\n",
      "BS Parsing Time ->  1.6350221633911133\n",
      "SARS-CoV-2 Spike Glycoprotein, prefusion with one RBD up conformation 2020-10-25 2020-11-11 EMD-22894 https://www.emdataresource.org/EMD-22894 A trimeric human angiotensin-converting enzyme 2 as an anti-SARS-CoV-2 agent. http://dx.doi.org/10.1038/s41594-020-00549-3\n",
      "Now working with ->  7KJ2\n",
      "Page fetching Time ->  1.1858880519866943\n",
      "BS Parsing Time ->  1.984997034072876\n",
      "SARS-CoV-2 Spike Glycoprotein with one ACE2 Bound 2020-10-25 2020-11-11 EMD-22891 https://www.emdataresource.org/EMD-22891 A trimeric human angiotensin-converting enzyme 2 as an anti-SARS-CoV-2 agent. http://dx.doi.org/10.1038/s41594-020-00549-3\n",
      "Now working with ->  7KJ3\n",
      "Page fetching Time ->  1.308237075805664\n",
      "BS Parsing Time ->  1.9938457012176514\n",
      "SARS-CoV-2 Spike Glycoprotein with two ACE2 Bound 2020-10-25 2020-11-11 EMD-22892 https://www.emdataresource.org/EMD-22892 A trimeric human angiotensin-converting enzyme 2 as an anti-SARS-CoV-2 agent. http://dx.doi.org/10.1038/s41594-020-00549-3\n",
      "Now working with ->  7KJR\n",
      "Page fetching Time ->  1.2142407894134521\n",
      "BS Parsing Time ->  0.06850528717041016\n",
      "Cryo-EM structure of SARS-CoV-2 ORF3a 2020-10-26 2020-11-18 EMD-22898 https://www.emdataresource.org/EMD-22898 Cryo-EM structure of the SARS-CoV-2 3a ion channel in lipid nanodiscs. http://dx.doi.org/10.1101/2020.06.17.156554\n",
      "Now working with ->  7KKK\n",
      "Page fetching Time ->  1.3718903064727783\n",
      "BS Parsing Time ->  3.1085104942321777\n",
      "SARS-CoV-2 Spike in complex with neutralizing nanobody Nb6 2020-10-27 2020-11-11 EMD-22907 https://www.emdataresource.org/EMD-22907 An ultrapotent synthetic nanobody neutralizes SARS-CoV-2 by stabilizing inactive Spike. http://dx.doi.org/10.1126/science.abe3255\n",
      "Now working with ->  7KKL\n",
      "Page fetching Time ->  1.4146296977996826\n",
      "BS Parsing Time ->  2.726874351501465\n",
      "SARS-CoV-2 Spike in complex with neutralizing nanobody mNb6 2020-10-27 2020-11-11 EMD-22910 https://www.emdataresource.org/EMD-22910 An ultrapotent synthetic nanobody neutralizes SARS-CoV-2 by stabilizing inactive Spike. http://dx.doi.org/10.1126/science.abe3255\n",
      "Now working with ->  7KL9\n",
      "Page fetching Time ->  1.7427029609680176\n",
      "BS Parsing Time ->  2.6338069438934326\n",
      "Structure of the SARS-CoV-2 S 6P trimer in complex with the ACE2 protein decoy, CTC-445.2 (State 4) 2020-10-29 2020-11-11 EMD-22916 https://www.emdataresource.org/EMD-22916 De novo design of potent and resilient hACE2 decoys to neutralize SARS-CoV-2. http://dx.doi.org/10.1126/science.abe0075\n",
      "Now working with ->  7KMS\n",
      "Page fetching Time ->  1.3570032119750977\n",
      "BS Parsing Time ->  3.0121939182281494\n",
      "Cryo-EM structure of triple ACE2-bound SARS-CoV-2 trimer spike at pH 7.4 2020-11-03 2020-12-09 EMD-22927 https://www.emdataresource.org/EMD-22927 Cryo-EM Structures of SARS-CoV-2 Spike without and with ACE2 Reveal a pH-Dependent Switch to Mediate Endosomal Positioning of Receptor-Binding Domains. http://dx.doi.org/10.1016/j.chom.2020.11.004\n",
      "Now working with ->  7KMK\n",
      "Page fetching Time ->  2.084639072418213\n",
      "BS Parsing Time ->  2.9877660274505615\n",
      "cryo-EM structure of SARS-CoV-2 spike in complex with Fab 15033-7, two RBDs bound 2020-11-03 2021-02-10 EMD-22925 https://www.emdataresource.org/EMD-22925 Tetravalent SARS-CoV-2 Neutralizing Antibodies Show Enhanced Potency and Resistance to Escape Mutations. http://dx.doi.org/10.1101/2020.10.31.362848\n",
      "Now working with ->  7KML\n",
      "Page fetching Time ->  1.2785217761993408\n",
      "BS Parsing Time ->  2.9448673725128174\n",
      "cryo-EM structure of SARS-CoV-2 spike in complex with Fab 15033-7, three RBDs bound 2020-11-03 2021-02-10 EMD-22926 https://www.emdataresource.org/EMD-22926 Tetravalent SARS-CoV-2 Neutralizing Antibodies Show Enhanced Potency and Resistance to Escape Mutations. http://dx.doi.org/10.1101/2020.10.31.362848\n",
      "Now working with ->  7KMB\n",
      "Page fetching Time ->  6.798330783843994\n",
      "BS Parsing Time ->  3.074052095413208\n",
      "ACE2-RBD Focused Refinement Using Symmetry Expansion of Applied C3 for Triple ACE2-bound SARS-CoV-2 Trimer Spike at pH 7.4 2020-11-02 2020-12-09 EMD-22922 https://www.emdataresource.org/EMD-22922 Cryo-EM Structures of SARS-CoV-2 Spike without and with ACE2 Reveal a pH-Dependent Switch to Mediate Endosomal Positioning of Receptor-Binding Domains. http://dx.doi.org/10.1016/j.chom.2020.11.004\n",
      "Now working with ->  7L06\n",
      "Page fetching Time ->  1.3374755382537842\n",
      "BS Parsing Time ->  1.552978754043579\n",
      "Cryo-EM structure of SARS-CoV-2 2P S ectodomain bound to two copies of domain-swapped antibody 2G12 2020-12-11 2020-12-30 EMD-23095 https://www.emdataresource.org/EMD-23095 A glycan cluster on the SARS-CoV-2 spike ectodomain is recognized by Fab-dimerized glycan-reactive antibodies. http://dx.doi.org/10.1101/2020.06.30.178897\n",
      "Now working with ->  7L09\n"
     ]
    },
    {
     "output_type": "error",
     "ename": "KeyboardInterrupt",
     "evalue": "",
     "traceback": [
      "\u001b[0;31m---------------------------------------------------------------------------\u001b[0m",
      "\u001b[0;31mKeyboardInterrupt\u001b[0m                         Traceback (most recent call last)",
      "\u001b[0;32m<ipython-input-132-8fb72117db4d>\u001b[0m in \u001b[0;36m<module>\u001b[0;34m\u001b[0m\n\u001b[1;32m     15\u001b[0m \u001b[0;32mfor\u001b[0m \u001b[0maccession\u001b[0m \u001b[0;32min\u001b[0m \u001b[0maccession_list\u001b[0m\u001b[0;34m:\u001b[0m\u001b[0;34m\u001b[0m\u001b[0;34m\u001b[0m\u001b[0m\n\u001b[1;32m     16\u001b[0m     \u001b[0mprint\u001b[0m\u001b[0;34m(\u001b[0m\u001b[0;34m\"Now working with -> \"\u001b[0m\u001b[0;34m,\u001b[0m\u001b[0maccession\u001b[0m\u001b[0;34m)\u001b[0m\u001b[0;34m\u001b[0m\u001b[0;34m\u001b[0m\u001b[0m\n\u001b[0;32m---> 17\u001b[0;31m     \u001b[0;34m(\u001b[0m\u001b[0mstructure_title\u001b[0m\u001b[0;34m,\u001b[0m\u001b[0mdeposited_date\u001b[0m\u001b[0;34m,\u001b[0m\u001b[0mreleased_date\u001b[0m\u001b[0;34m,\u001b[0m\u001b[0memData_id\u001b[0m\u001b[0;34m,\u001b[0m \u001b[0memData_link\u001b[0m\u001b[0;34m,\u001b[0m \u001b[0mpaper_name\u001b[0m\u001b[0;34m,\u001b[0m\u001b[0ma_paper_link\u001b[0m\u001b[0;34m)\u001b[0m \u001b[0;34m=\u001b[0m \u001b[0mgetmetadata\u001b[0m\u001b[0;34m(\u001b[0m\u001b[0maccession\u001b[0m\u001b[0;34m)\u001b[0m\u001b[0;34m\u001b[0m\u001b[0;34m\u001b[0m\u001b[0m\n\u001b[0m\u001b[1;32m     18\u001b[0m     \u001b[0mprint\u001b[0m\u001b[0;34m(\u001b[0m\u001b[0mstructure_title\u001b[0m\u001b[0;34m,\u001b[0m\u001b[0mdeposited_date\u001b[0m\u001b[0;34m,\u001b[0m\u001b[0mreleased_date\u001b[0m\u001b[0;34m,\u001b[0m\u001b[0memData_id\u001b[0m\u001b[0;34m,\u001b[0m \u001b[0memData_link\u001b[0m\u001b[0;34m,\u001b[0m \u001b[0mpaper_name\u001b[0m\u001b[0;34m,\u001b[0m\u001b[0ma_paper_link\u001b[0m\u001b[0;34m)\u001b[0m\u001b[0;34m\u001b[0m\u001b[0;34m\u001b[0m\u001b[0m\n\u001b[1;32m     19\u001b[0m \u001b[0;34m\u001b[0m\u001b[0m\n",
      "\u001b[0;32m<ipython-input-131-5ff016741772>\u001b[0m in \u001b[0;36mgetmetadata\u001b[0;34m(accession)\u001b[0m\n\u001b[1;32m      7\u001b[0m \u001b[0;34m\u001b[0m\u001b[0m\n\u001b[1;32m      8\u001b[0m     \u001b[0mstart_time\u001b[0m \u001b[0;34m=\u001b[0m \u001b[0mtime\u001b[0m\u001b[0;34m.\u001b[0m\u001b[0mtime\u001b[0m\u001b[0;34m(\u001b[0m\u001b[0;34m)\u001b[0m\u001b[0;34m\u001b[0m\u001b[0;34m\u001b[0m\u001b[0m\n\u001b[0;32m----> 9\u001b[0;31m     \u001b[0mpage\u001b[0m \u001b[0;34m=\u001b[0m \u001b[0mrequests\u001b[0m\u001b[0;34m.\u001b[0m\u001b[0mget\u001b[0m\u001b[0;34m(\u001b[0m\u001b[0mURL\u001b[0m\u001b[0;34m)\u001b[0m\u001b[0;34m\u001b[0m\u001b[0;34m\u001b[0m\u001b[0m\n\u001b[0m\u001b[1;32m     10\u001b[0m     \u001b[0mprint\u001b[0m\u001b[0;34m(\u001b[0m\u001b[0;34m\"Page fetching Time -> \"\u001b[0m\u001b[0;34m,\u001b[0m\u001b[0;34m(\u001b[0m\u001b[0mtime\u001b[0m\u001b[0;34m.\u001b[0m\u001b[0mtime\u001b[0m\u001b[0;34m(\u001b[0m\u001b[0;34m)\u001b[0m \u001b[0;34m-\u001b[0m \u001b[0mstart_time\u001b[0m\u001b[0;34m)\u001b[0m\u001b[0;34m)\u001b[0m\u001b[0;34m\u001b[0m\u001b[0;34m\u001b[0m\u001b[0m\n\u001b[1;32m     11\u001b[0m \u001b[0;34m\u001b[0m\u001b[0m\n",
      "\u001b[0;32m~/anaconda3/lib/python3.7/site-packages/requests/api.py\u001b[0m in \u001b[0;36mget\u001b[0;34m(url, params, **kwargs)\u001b[0m\n\u001b[1;32m     73\u001b[0m \u001b[0;34m\u001b[0m\u001b[0m\n\u001b[1;32m     74\u001b[0m     \u001b[0mkwargs\u001b[0m\u001b[0;34m.\u001b[0m\u001b[0msetdefault\u001b[0m\u001b[0;34m(\u001b[0m\u001b[0;34m'allow_redirects'\u001b[0m\u001b[0;34m,\u001b[0m \u001b[0;32mTrue\u001b[0m\u001b[0;34m)\u001b[0m\u001b[0;34m\u001b[0m\u001b[0;34m\u001b[0m\u001b[0m\n\u001b[0;32m---> 75\u001b[0;31m     \u001b[0;32mreturn\u001b[0m \u001b[0mrequest\u001b[0m\u001b[0;34m(\u001b[0m\u001b[0;34m'get'\u001b[0m\u001b[0;34m,\u001b[0m \u001b[0murl\u001b[0m\u001b[0;34m,\u001b[0m \u001b[0mparams\u001b[0m\u001b[0;34m=\u001b[0m\u001b[0mparams\u001b[0m\u001b[0;34m,\u001b[0m \u001b[0;34m**\u001b[0m\u001b[0mkwargs\u001b[0m\u001b[0;34m)\u001b[0m\u001b[0;34m\u001b[0m\u001b[0;34m\u001b[0m\u001b[0m\n\u001b[0m\u001b[1;32m     76\u001b[0m \u001b[0;34m\u001b[0m\u001b[0m\n\u001b[1;32m     77\u001b[0m \u001b[0;34m\u001b[0m\u001b[0m\n",
      "\u001b[0;32m~/anaconda3/lib/python3.7/site-packages/requests/api.py\u001b[0m in \u001b[0;36mrequest\u001b[0;34m(method, url, **kwargs)\u001b[0m\n\u001b[1;32m     58\u001b[0m     \u001b[0;31m# cases, and look like a memory leak in others.\u001b[0m\u001b[0;34m\u001b[0m\u001b[0;34m\u001b[0m\u001b[0;34m\u001b[0m\u001b[0m\n\u001b[1;32m     59\u001b[0m     \u001b[0;32mwith\u001b[0m \u001b[0msessions\u001b[0m\u001b[0;34m.\u001b[0m\u001b[0mSession\u001b[0m\u001b[0;34m(\u001b[0m\u001b[0;34m)\u001b[0m \u001b[0;32mas\u001b[0m \u001b[0msession\u001b[0m\u001b[0;34m:\u001b[0m\u001b[0;34m\u001b[0m\u001b[0;34m\u001b[0m\u001b[0m\n\u001b[0;32m---> 60\u001b[0;31m         \u001b[0;32mreturn\u001b[0m \u001b[0msession\u001b[0m\u001b[0;34m.\u001b[0m\u001b[0mrequest\u001b[0m\u001b[0;34m(\u001b[0m\u001b[0mmethod\u001b[0m\u001b[0;34m=\u001b[0m\u001b[0mmethod\u001b[0m\u001b[0;34m,\u001b[0m \u001b[0murl\u001b[0m\u001b[0;34m=\u001b[0m\u001b[0murl\u001b[0m\u001b[0;34m,\u001b[0m \u001b[0;34m**\u001b[0m\u001b[0mkwargs\u001b[0m\u001b[0;34m)\u001b[0m\u001b[0;34m\u001b[0m\u001b[0;34m\u001b[0m\u001b[0m\n\u001b[0m\u001b[1;32m     61\u001b[0m \u001b[0;34m\u001b[0m\u001b[0m\n\u001b[1;32m     62\u001b[0m \u001b[0;34m\u001b[0m\u001b[0m\n",
      "\u001b[0;32m~/anaconda3/lib/python3.7/site-packages/requests/sessions.py\u001b[0m in \u001b[0;36mrequest\u001b[0;34m(self, method, url, params, data, headers, cookies, files, auth, timeout, allow_redirects, proxies, hooks, stream, verify, cert, json)\u001b[0m\n\u001b[1;32m    531\u001b[0m         }\n\u001b[1;32m    532\u001b[0m         \u001b[0msend_kwargs\u001b[0m\u001b[0;34m.\u001b[0m\u001b[0mupdate\u001b[0m\u001b[0;34m(\u001b[0m\u001b[0msettings\u001b[0m\u001b[0;34m)\u001b[0m\u001b[0;34m\u001b[0m\u001b[0;34m\u001b[0m\u001b[0m\n\u001b[0;32m--> 533\u001b[0;31m         \u001b[0mresp\u001b[0m \u001b[0;34m=\u001b[0m \u001b[0mself\u001b[0m\u001b[0;34m.\u001b[0m\u001b[0msend\u001b[0m\u001b[0;34m(\u001b[0m\u001b[0mprep\u001b[0m\u001b[0;34m,\u001b[0m \u001b[0;34m**\u001b[0m\u001b[0msend_kwargs\u001b[0m\u001b[0;34m)\u001b[0m\u001b[0;34m\u001b[0m\u001b[0;34m\u001b[0m\u001b[0m\n\u001b[0m\u001b[1;32m    534\u001b[0m \u001b[0;34m\u001b[0m\u001b[0m\n\u001b[1;32m    535\u001b[0m         \u001b[0;32mreturn\u001b[0m \u001b[0mresp\u001b[0m\u001b[0;34m\u001b[0m\u001b[0;34m\u001b[0m\u001b[0m\n",
      "\u001b[0;32m~/anaconda3/lib/python3.7/site-packages/requests/sessions.py\u001b[0m in \u001b[0;36msend\u001b[0;34m(self, request, **kwargs)\u001b[0m\n\u001b[1;32m    644\u001b[0m \u001b[0;34m\u001b[0m\u001b[0m\n\u001b[1;32m    645\u001b[0m         \u001b[0;31m# Send the request\u001b[0m\u001b[0;34m\u001b[0m\u001b[0;34m\u001b[0m\u001b[0;34m\u001b[0m\u001b[0m\n\u001b[0;32m--> 646\u001b[0;31m         \u001b[0mr\u001b[0m \u001b[0;34m=\u001b[0m \u001b[0madapter\u001b[0m\u001b[0;34m.\u001b[0m\u001b[0msend\u001b[0m\u001b[0;34m(\u001b[0m\u001b[0mrequest\u001b[0m\u001b[0;34m,\u001b[0m \u001b[0;34m**\u001b[0m\u001b[0mkwargs\u001b[0m\u001b[0;34m)\u001b[0m\u001b[0;34m\u001b[0m\u001b[0;34m\u001b[0m\u001b[0m\n\u001b[0m\u001b[1;32m    647\u001b[0m \u001b[0;34m\u001b[0m\u001b[0m\n\u001b[1;32m    648\u001b[0m         \u001b[0;31m# Total elapsed time of the request (approximately)\u001b[0m\u001b[0;34m\u001b[0m\u001b[0;34m\u001b[0m\u001b[0;34m\u001b[0m\u001b[0m\n",
      "\u001b[0;32m~/anaconda3/lib/python3.7/site-packages/requests/adapters.py\u001b[0m in \u001b[0;36msend\u001b[0;34m(self, request, stream, timeout, verify, cert, proxies)\u001b[0m\n\u001b[1;32m    447\u001b[0m                     \u001b[0mdecode_content\u001b[0m\u001b[0;34m=\u001b[0m\u001b[0;32mFalse\u001b[0m\u001b[0;34m,\u001b[0m\u001b[0;34m\u001b[0m\u001b[0;34m\u001b[0m\u001b[0m\n\u001b[1;32m    448\u001b[0m                     \u001b[0mretries\u001b[0m\u001b[0;34m=\u001b[0m\u001b[0mself\u001b[0m\u001b[0;34m.\u001b[0m\u001b[0mmax_retries\u001b[0m\u001b[0;34m,\u001b[0m\u001b[0;34m\u001b[0m\u001b[0;34m\u001b[0m\u001b[0m\n\u001b[0;32m--> 449\u001b[0;31m                     \u001b[0mtimeout\u001b[0m\u001b[0;34m=\u001b[0m\u001b[0mtimeout\u001b[0m\u001b[0;34m\u001b[0m\u001b[0;34m\u001b[0m\u001b[0m\n\u001b[0m\u001b[1;32m    450\u001b[0m                 )\n\u001b[1;32m    451\u001b[0m \u001b[0;34m\u001b[0m\u001b[0m\n",
      "\u001b[0;32m~/anaconda3/lib/python3.7/site-packages/urllib3/connectionpool.py\u001b[0m in \u001b[0;36murlopen\u001b[0;34m(self, method, url, body, headers, retries, redirect, assert_same_host, timeout, pool_timeout, release_conn, chunked, body_pos, **response_kw)\u001b[0m\n\u001b[1;32m    670\u001b[0m                 \u001b[0mbody\u001b[0m\u001b[0;34m=\u001b[0m\u001b[0mbody\u001b[0m\u001b[0;34m,\u001b[0m\u001b[0;34m\u001b[0m\u001b[0;34m\u001b[0m\u001b[0m\n\u001b[1;32m    671\u001b[0m                 \u001b[0mheaders\u001b[0m\u001b[0;34m=\u001b[0m\u001b[0mheaders\u001b[0m\u001b[0;34m,\u001b[0m\u001b[0;34m\u001b[0m\u001b[0;34m\u001b[0m\u001b[0m\n\u001b[0;32m--> 672\u001b[0;31m                 \u001b[0mchunked\u001b[0m\u001b[0;34m=\u001b[0m\u001b[0mchunked\u001b[0m\u001b[0;34m,\u001b[0m\u001b[0;34m\u001b[0m\u001b[0;34m\u001b[0m\u001b[0m\n\u001b[0m\u001b[1;32m    673\u001b[0m             )\n\u001b[1;32m    674\u001b[0m \u001b[0;34m\u001b[0m\u001b[0m\n",
      "\u001b[0;32m~/anaconda3/lib/python3.7/site-packages/urllib3/connectionpool.py\u001b[0m in \u001b[0;36m_make_request\u001b[0;34m(self, conn, method, url, timeout, chunked, **httplib_request_kw)\u001b[0m\n\u001b[1;32m    419\u001b[0m                     \u001b[0;31m# Python 3 (including for exceptions like SystemExit).\u001b[0m\u001b[0;34m\u001b[0m\u001b[0;34m\u001b[0m\u001b[0;34m\u001b[0m\u001b[0m\n\u001b[1;32m    420\u001b[0m                     \u001b[0;31m# Otherwise it looks like a bug in the code.\u001b[0m\u001b[0;34m\u001b[0m\u001b[0;34m\u001b[0m\u001b[0;34m\u001b[0m\u001b[0m\n\u001b[0;32m--> 421\u001b[0;31m                     \u001b[0msix\u001b[0m\u001b[0;34m.\u001b[0m\u001b[0mraise_from\u001b[0m\u001b[0;34m(\u001b[0m\u001b[0me\u001b[0m\u001b[0;34m,\u001b[0m \u001b[0;32mNone\u001b[0m\u001b[0;34m)\u001b[0m\u001b[0;34m\u001b[0m\u001b[0;34m\u001b[0m\u001b[0m\n\u001b[0m\u001b[1;32m    422\u001b[0m         \u001b[0;32mexcept\u001b[0m \u001b[0;34m(\u001b[0m\u001b[0mSocketTimeout\u001b[0m\u001b[0;34m,\u001b[0m \u001b[0mBaseSSLError\u001b[0m\u001b[0;34m,\u001b[0m \u001b[0mSocketError\u001b[0m\u001b[0;34m)\u001b[0m \u001b[0;32mas\u001b[0m \u001b[0me\u001b[0m\u001b[0;34m:\u001b[0m\u001b[0;34m\u001b[0m\u001b[0;34m\u001b[0m\u001b[0m\n\u001b[1;32m    423\u001b[0m             \u001b[0mself\u001b[0m\u001b[0;34m.\u001b[0m\u001b[0m_raise_timeout\u001b[0m\u001b[0;34m(\u001b[0m\u001b[0merr\u001b[0m\u001b[0;34m=\u001b[0m\u001b[0me\u001b[0m\u001b[0;34m,\u001b[0m \u001b[0murl\u001b[0m\u001b[0;34m=\u001b[0m\u001b[0murl\u001b[0m\u001b[0;34m,\u001b[0m \u001b[0mtimeout_value\u001b[0m\u001b[0;34m=\u001b[0m\u001b[0mread_timeout\u001b[0m\u001b[0;34m)\u001b[0m\u001b[0;34m\u001b[0m\u001b[0;34m\u001b[0m\u001b[0m\n",
      "\u001b[0;32m~/anaconda3/lib/python3.7/site-packages/urllib3/packages/six.py\u001b[0m in \u001b[0;36mraise_from\u001b[0;34m(value, from_value)\u001b[0m\n",
      "\u001b[0;32m~/anaconda3/lib/python3.7/site-packages/urllib3/connectionpool.py\u001b[0m in \u001b[0;36m_make_request\u001b[0;34m(self, conn, method, url, timeout, chunked, **httplib_request_kw)\u001b[0m\n\u001b[1;32m    414\u001b[0m                 \u001b[0;31m# Python 3\u001b[0m\u001b[0;34m\u001b[0m\u001b[0;34m\u001b[0m\u001b[0;34m\u001b[0m\u001b[0m\n\u001b[1;32m    415\u001b[0m                 \u001b[0;32mtry\u001b[0m\u001b[0;34m:\u001b[0m\u001b[0;34m\u001b[0m\u001b[0;34m\u001b[0m\u001b[0m\n\u001b[0;32m--> 416\u001b[0;31m                     \u001b[0mhttplib_response\u001b[0m \u001b[0;34m=\u001b[0m \u001b[0mconn\u001b[0m\u001b[0;34m.\u001b[0m\u001b[0mgetresponse\u001b[0m\u001b[0;34m(\u001b[0m\u001b[0;34m)\u001b[0m\u001b[0;34m\u001b[0m\u001b[0;34m\u001b[0m\u001b[0m\n\u001b[0m\u001b[1;32m    417\u001b[0m                 \u001b[0;32mexcept\u001b[0m \u001b[0mBaseException\u001b[0m \u001b[0;32mas\u001b[0m \u001b[0me\u001b[0m\u001b[0;34m:\u001b[0m\u001b[0;34m\u001b[0m\u001b[0;34m\u001b[0m\u001b[0m\n\u001b[1;32m    418\u001b[0m                     \u001b[0;31m# Remove the TypeError from the exception chain in\u001b[0m\u001b[0;34m\u001b[0m\u001b[0;34m\u001b[0m\u001b[0;34m\u001b[0m\u001b[0m\n",
      "\u001b[0;32m~/anaconda3/lib/python3.7/http/client.py\u001b[0m in \u001b[0;36mgetresponse\u001b[0;34m(self)\u001b[0m\n\u001b[1;32m   1342\u001b[0m         \u001b[0;32mtry\u001b[0m\u001b[0;34m:\u001b[0m\u001b[0;34m\u001b[0m\u001b[0;34m\u001b[0m\u001b[0m\n\u001b[1;32m   1343\u001b[0m             \u001b[0;32mtry\u001b[0m\u001b[0;34m:\u001b[0m\u001b[0;34m\u001b[0m\u001b[0;34m\u001b[0m\u001b[0m\n\u001b[0;32m-> 1344\u001b[0;31m                 \u001b[0mresponse\u001b[0m\u001b[0;34m.\u001b[0m\u001b[0mbegin\u001b[0m\u001b[0;34m(\u001b[0m\u001b[0;34m)\u001b[0m\u001b[0;34m\u001b[0m\u001b[0;34m\u001b[0m\u001b[0m\n\u001b[0m\u001b[1;32m   1345\u001b[0m             \u001b[0;32mexcept\u001b[0m \u001b[0mConnectionError\u001b[0m\u001b[0;34m:\u001b[0m\u001b[0;34m\u001b[0m\u001b[0;34m\u001b[0m\u001b[0m\n\u001b[1;32m   1346\u001b[0m                 \u001b[0mself\u001b[0m\u001b[0;34m.\u001b[0m\u001b[0mclose\u001b[0m\u001b[0;34m(\u001b[0m\u001b[0;34m)\u001b[0m\u001b[0;34m\u001b[0m\u001b[0;34m\u001b[0m\u001b[0m\n",
      "\u001b[0;32m~/anaconda3/lib/python3.7/http/client.py\u001b[0m in \u001b[0;36mbegin\u001b[0;34m(self)\u001b[0m\n\u001b[1;32m    304\u001b[0m         \u001b[0;31m# read until we get a non-100 response\u001b[0m\u001b[0;34m\u001b[0m\u001b[0;34m\u001b[0m\u001b[0;34m\u001b[0m\u001b[0m\n\u001b[1;32m    305\u001b[0m         \u001b[0;32mwhile\u001b[0m \u001b[0;32mTrue\u001b[0m\u001b[0;34m:\u001b[0m\u001b[0;34m\u001b[0m\u001b[0;34m\u001b[0m\u001b[0m\n\u001b[0;32m--> 306\u001b[0;31m             \u001b[0mversion\u001b[0m\u001b[0;34m,\u001b[0m \u001b[0mstatus\u001b[0m\u001b[0;34m,\u001b[0m \u001b[0mreason\u001b[0m \u001b[0;34m=\u001b[0m \u001b[0mself\u001b[0m\u001b[0;34m.\u001b[0m\u001b[0m_read_status\u001b[0m\u001b[0;34m(\u001b[0m\u001b[0;34m)\u001b[0m\u001b[0;34m\u001b[0m\u001b[0;34m\u001b[0m\u001b[0m\n\u001b[0m\u001b[1;32m    307\u001b[0m             \u001b[0;32mif\u001b[0m \u001b[0mstatus\u001b[0m \u001b[0;34m!=\u001b[0m \u001b[0mCONTINUE\u001b[0m\u001b[0;34m:\u001b[0m\u001b[0;34m\u001b[0m\u001b[0;34m\u001b[0m\u001b[0m\n\u001b[1;32m    308\u001b[0m                 \u001b[0;32mbreak\u001b[0m\u001b[0;34m\u001b[0m\u001b[0;34m\u001b[0m\u001b[0m\n",
      "\u001b[0;32m~/anaconda3/lib/python3.7/http/client.py\u001b[0m in \u001b[0;36m_read_status\u001b[0;34m(self)\u001b[0m\n\u001b[1;32m    265\u001b[0m \u001b[0;34m\u001b[0m\u001b[0m\n\u001b[1;32m    266\u001b[0m     \u001b[0;32mdef\u001b[0m \u001b[0m_read_status\u001b[0m\u001b[0;34m(\u001b[0m\u001b[0mself\u001b[0m\u001b[0;34m)\u001b[0m\u001b[0;34m:\u001b[0m\u001b[0;34m\u001b[0m\u001b[0;34m\u001b[0m\u001b[0m\n\u001b[0;32m--> 267\u001b[0;31m         \u001b[0mline\u001b[0m \u001b[0;34m=\u001b[0m \u001b[0mstr\u001b[0m\u001b[0;34m(\u001b[0m\u001b[0mself\u001b[0m\u001b[0;34m.\u001b[0m\u001b[0mfp\u001b[0m\u001b[0;34m.\u001b[0m\u001b[0mreadline\u001b[0m\u001b[0;34m(\u001b[0m\u001b[0m_MAXLINE\u001b[0m \u001b[0;34m+\u001b[0m \u001b[0;36m1\u001b[0m\u001b[0;34m)\u001b[0m\u001b[0;34m,\u001b[0m \u001b[0;34m\"iso-8859-1\"\u001b[0m\u001b[0;34m)\u001b[0m\u001b[0;34m\u001b[0m\u001b[0;34m\u001b[0m\u001b[0m\n\u001b[0m\u001b[1;32m    268\u001b[0m         \u001b[0;32mif\u001b[0m \u001b[0mlen\u001b[0m\u001b[0;34m(\u001b[0m\u001b[0mline\u001b[0m\u001b[0;34m)\u001b[0m \u001b[0;34m>\u001b[0m \u001b[0m_MAXLINE\u001b[0m\u001b[0;34m:\u001b[0m\u001b[0;34m\u001b[0m\u001b[0;34m\u001b[0m\u001b[0m\n\u001b[1;32m    269\u001b[0m             \u001b[0;32mraise\u001b[0m \u001b[0mLineTooLong\u001b[0m\u001b[0;34m(\u001b[0m\u001b[0;34m\"status line\"\u001b[0m\u001b[0;34m)\u001b[0m\u001b[0;34m\u001b[0m\u001b[0;34m\u001b[0m\u001b[0m\n",
      "\u001b[0;32m~/anaconda3/lib/python3.7/socket.py\u001b[0m in \u001b[0;36mreadinto\u001b[0;34m(self, b)\u001b[0m\n\u001b[1;32m    587\u001b[0m         \u001b[0;32mwhile\u001b[0m \u001b[0;32mTrue\u001b[0m\u001b[0;34m:\u001b[0m\u001b[0;34m\u001b[0m\u001b[0;34m\u001b[0m\u001b[0m\n\u001b[1;32m    588\u001b[0m             \u001b[0;32mtry\u001b[0m\u001b[0;34m:\u001b[0m\u001b[0;34m\u001b[0m\u001b[0;34m\u001b[0m\u001b[0m\n\u001b[0;32m--> 589\u001b[0;31m                 \u001b[0;32mreturn\u001b[0m \u001b[0mself\u001b[0m\u001b[0;34m.\u001b[0m\u001b[0m_sock\u001b[0m\u001b[0;34m.\u001b[0m\u001b[0mrecv_into\u001b[0m\u001b[0;34m(\u001b[0m\u001b[0mb\u001b[0m\u001b[0;34m)\u001b[0m\u001b[0;34m\u001b[0m\u001b[0;34m\u001b[0m\u001b[0m\n\u001b[0m\u001b[1;32m    590\u001b[0m             \u001b[0;32mexcept\u001b[0m \u001b[0mtimeout\u001b[0m\u001b[0;34m:\u001b[0m\u001b[0;34m\u001b[0m\u001b[0;34m\u001b[0m\u001b[0m\n\u001b[1;32m    591\u001b[0m                 \u001b[0mself\u001b[0m\u001b[0;34m.\u001b[0m\u001b[0m_timeout_occurred\u001b[0m \u001b[0;34m=\u001b[0m \u001b[0;32mTrue\u001b[0m\u001b[0;34m\u001b[0m\u001b[0;34m\u001b[0m\u001b[0m\n",
      "\u001b[0;32m~/anaconda3/lib/python3.7/site-packages/urllib3/contrib/pyopenssl.py\u001b[0m in \u001b[0;36mrecv_into\u001b[0;34m(self, *args, **kwargs)\u001b[0m\n\u001b[1;32m    311\u001b[0m     \u001b[0;32mdef\u001b[0m \u001b[0mrecv_into\u001b[0m\u001b[0;34m(\u001b[0m\u001b[0mself\u001b[0m\u001b[0;34m,\u001b[0m \u001b[0;34m*\u001b[0m\u001b[0margs\u001b[0m\u001b[0;34m,\u001b[0m \u001b[0;34m**\u001b[0m\u001b[0mkwargs\u001b[0m\u001b[0;34m)\u001b[0m\u001b[0;34m:\u001b[0m\u001b[0;34m\u001b[0m\u001b[0;34m\u001b[0m\u001b[0m\n\u001b[1;32m    312\u001b[0m         \u001b[0;32mtry\u001b[0m\u001b[0;34m:\u001b[0m\u001b[0;34m\u001b[0m\u001b[0;34m\u001b[0m\u001b[0m\n\u001b[0;32m--> 313\u001b[0;31m             \u001b[0;32mreturn\u001b[0m \u001b[0mself\u001b[0m\u001b[0;34m.\u001b[0m\u001b[0mconnection\u001b[0m\u001b[0;34m.\u001b[0m\u001b[0mrecv_into\u001b[0m\u001b[0;34m(\u001b[0m\u001b[0;34m*\u001b[0m\u001b[0margs\u001b[0m\u001b[0;34m,\u001b[0m \u001b[0;34m**\u001b[0m\u001b[0mkwargs\u001b[0m\u001b[0;34m)\u001b[0m\u001b[0;34m\u001b[0m\u001b[0;34m\u001b[0m\u001b[0m\n\u001b[0m\u001b[1;32m    314\u001b[0m         \u001b[0;32mexcept\u001b[0m \u001b[0mOpenSSL\u001b[0m\u001b[0;34m.\u001b[0m\u001b[0mSSL\u001b[0m\u001b[0;34m.\u001b[0m\u001b[0mSysCallError\u001b[0m \u001b[0;32mas\u001b[0m \u001b[0me\u001b[0m\u001b[0;34m:\u001b[0m\u001b[0;34m\u001b[0m\u001b[0;34m\u001b[0m\u001b[0m\n\u001b[1;32m    315\u001b[0m             \u001b[0;32mif\u001b[0m \u001b[0mself\u001b[0m\u001b[0;34m.\u001b[0m\u001b[0msuppress_ragged_eofs\u001b[0m \u001b[0;32mand\u001b[0m \u001b[0me\u001b[0m\u001b[0;34m.\u001b[0m\u001b[0margs\u001b[0m \u001b[0;34m==\u001b[0m \u001b[0;34m(\u001b[0m\u001b[0;34m-\u001b[0m\u001b[0;36m1\u001b[0m\u001b[0;34m,\u001b[0m \u001b[0;34m\"Unexpected EOF\"\u001b[0m\u001b[0;34m)\u001b[0m\u001b[0;34m:\u001b[0m\u001b[0;34m\u001b[0m\u001b[0;34m\u001b[0m\u001b[0m\n",
      "\u001b[0;32m~/anaconda3/lib/python3.7/site-packages/OpenSSL/SSL.py\u001b[0m in \u001b[0;36mrecv_into\u001b[0;34m(self, buffer, nbytes, flags)\u001b[0m\n\u001b[1;32m   1837\u001b[0m             \u001b[0mresult\u001b[0m \u001b[0;34m=\u001b[0m \u001b[0m_lib\u001b[0m\u001b[0;34m.\u001b[0m\u001b[0mSSL_peek\u001b[0m\u001b[0;34m(\u001b[0m\u001b[0mself\u001b[0m\u001b[0;34m.\u001b[0m\u001b[0m_ssl\u001b[0m\u001b[0;34m,\u001b[0m \u001b[0mbuf\u001b[0m\u001b[0;34m,\u001b[0m \u001b[0mnbytes\u001b[0m\u001b[0;34m)\u001b[0m\u001b[0;34m\u001b[0m\u001b[0;34m\u001b[0m\u001b[0m\n\u001b[1;32m   1838\u001b[0m         \u001b[0;32melse\u001b[0m\u001b[0;34m:\u001b[0m\u001b[0;34m\u001b[0m\u001b[0;34m\u001b[0m\u001b[0m\n\u001b[0;32m-> 1839\u001b[0;31m             \u001b[0mresult\u001b[0m \u001b[0;34m=\u001b[0m \u001b[0m_lib\u001b[0m\u001b[0;34m.\u001b[0m\u001b[0mSSL_read\u001b[0m\u001b[0;34m(\u001b[0m\u001b[0mself\u001b[0m\u001b[0;34m.\u001b[0m\u001b[0m_ssl\u001b[0m\u001b[0;34m,\u001b[0m \u001b[0mbuf\u001b[0m\u001b[0;34m,\u001b[0m \u001b[0mnbytes\u001b[0m\u001b[0;34m)\u001b[0m\u001b[0;34m\u001b[0m\u001b[0;34m\u001b[0m\u001b[0m\n\u001b[0m\u001b[1;32m   1840\u001b[0m         \u001b[0mself\u001b[0m\u001b[0;34m.\u001b[0m\u001b[0m_raise_ssl_error\u001b[0m\u001b[0;34m(\u001b[0m\u001b[0mself\u001b[0m\u001b[0;34m.\u001b[0m\u001b[0m_ssl\u001b[0m\u001b[0;34m,\u001b[0m \u001b[0mresult\u001b[0m\u001b[0;34m)\u001b[0m\u001b[0;34m\u001b[0m\u001b[0;34m\u001b[0m\u001b[0m\n\u001b[1;32m   1841\u001b[0m \u001b[0;34m\u001b[0m\u001b[0m\n",
      "\u001b[0;31mKeyboardInterrupt\u001b[0m: "
     ]
    }
   ],
   "source": [
    "accession_list = []\n",
    "with open(\"batch_accession.txt\",\"r\") as fl:\n",
    "\n",
    "\taccession = fl.read()\n",
    "\taccession_list = accession.split(\",\")\n",
    "\n",
    "structure_titles = []\n",
    "deposited_dates = []\n",
    "released_dates = []\n",
    "emData_ids = []\n",
    "emData_links = []\n",
    "paper_names = []\n",
    "paper_links = []\n",
    "\n",
    "for accession in accession_list:\n",
    "    print(\"Now working with -> \",accession)\n",
    "    (structure_title,deposited_date,released_date,emData_id, emData_link, paper_name,a_paper_link) = getmetadata(accession)\n",
    "    print(structure_title,deposited_date,released_date,emData_id, emData_link, paper_name,a_paper_link)\n",
    "\n",
    "    structure_titles.append(structure_title)\n",
    "    deposited_dates.append(deposited_date)\n",
    "    released_dates.append(released_date)\n",
    "    emData_ids.append(emData_id)\n",
    "    emData_links.append(emData_link)\n",
    "    paper_names.append(paper_name)\n",
    "    paper_links.append(a_paper_link)\n"
   ]
  },
  {
   "cell_type": "code",
   "execution_count": 133,
   "metadata": {},
   "outputs": [
    {
     "output_type": "stream",
     "name": "stdout",
     "text": [
      "['6X6P', '6X79', '7BH9', '7BNM', '7BNN', '7BNO', '7C2L', '7C2K', '7BTF', '7BV1', '7BV2', '7C8D', '7BW4', '7B17', '7B3C', '7B3B', '7B3D', '7KDJ', '7KDK', '7KDH', '7KDI', '7KDL', '7KDG', '7KEC', '7KEA', '7KEB', '7KE9', '7KE4', '7KE7', '7KE8', '7KDT', '7KE6', '7KJ4', '7KJ5', '7KJ2', '7KJ3', '7KJR', '7KKK', '7KKL', '7KL9', '7KMS', '7KMK', '7KML', '7KMB', '7L06', '7L09', '7L02', '7KNE', '7KNB', '7KNH', '7KNI', '7KMZ', '7JJI', '7JJJ', '7M4R', '7LSS', '7LWT', '7LWU', '7LWS', '7LWV', '7LWW', '7LWL', '7LWM', '7LWJ', '7LWK', '7LWP', '7LWQ', '7LWN', '7LWO', '7LWI', '7LXY', '7LXZ', '7LXW', '7LXX', '7LY2', '7LY0', '7LYN', '7LYO', '7LYL', '7LYM', '7LYP', '7LYQ', '7LYK', '7ME0', '7L1F', '7L2E', '7L2F', '7L2D', '7KS9', '7KRP', '7KRQ', '7KRN', '7L3N', '7KRO', '7KRR', '7KRS', '7L58', '7L56', '7L57', '7KSG', '7L7K', '7L7F', '7KXJ', '7KXK', '7NDC', '7NDD', '7NDA', '7NDB', '7ND7', '7ND8', '7ND5', '7ND6', '7ND9', '7ND3', '7ND4', '7LAB', '7LAA', '7LD1', '7LCN', '7LJR', '7M0J', '7LQV', '7LQW', '7LS9', '6XCN', '6XCM', '6XDC', '6XDG', '6XF5', '6XF6', '6XEZ', '6XEY', '6XKL', '6XM4', '6XM3', '6XLU', '6XM5', '6XM0', '6YOR', '6Z43']\n"
     ]
    }
   ],
   "source": [
    "print(accession_list)"
   ]
  },
  {
   "cell_type": "code",
   "execution_count": 134,
   "metadata": {},
   "outputs": [],
   "source": [
    "accession_till_now = ['6X6P', '6X79', '7BH9', '7BNM', '7BNN', '7BNO', '7C2L', '7C2K', '7BTF', '7BV1', '7BV2', '7C8D', '7BW4', '7B17', '7B3C', '7B3B', '7B3D', '7KDJ', '7KDK', '7KDH', '7KDI', '7KDL', '7KDG', '7KEC', '7KEA', '7KEB', '7KE9', '7KE4', '7KE7', '7KE8', '7KDT', '7KE6', '7KJ4', '7KJ5', '7KJ2', '7KJ3', '7KJR', '7KKK', '7KKL', '7KL9', '7KMS', '7KMK', '7KML', '7KMB', '7L06']"
   ]
  },
  {
   "cell_type": "code",
   "execution_count": 135,
   "metadata": {},
   "outputs": [],
   "source": [
    "import pandas as pd \n",
    "columns = [\"PDB Entry\",\"Structure Title\",\"Paper DOI\",\"Paper Name\",\"EMDB ID\",\"EMDB Link\",\"Deposited Date\",\"Released Date\"]\n",
    "df = pd.DataFrame(columns=columns)\n",
    "df[\"PDB Entry\"]  = accession_till_now\n",
    "df[\"Structure Title\"] = structure_titles\n",
    "df[\"Paper DOI\"] = paper_links\n",
    "df[\"Paper Name\"] = paper_names\n",
    "df[\"EMDB ID\"] = emData_ids\n",
    "df[\"EMDB Link\"] = emData_links\n",
    "df[\"Released Date\"] = released_dates\n",
    "df[\"Deposited Date\"] = deposited_dates"
   ]
  },
  {
   "cell_type": "code",
   "execution_count": 136,
   "metadata": {},
   "outputs": [],
   "source": [
    "df.to_excel(\"batch_3.xlsx\",index=False)"
   ]
  },
  {
   "cell_type": "code",
   "execution_count": 137,
   "metadata": {},
   "outputs": [
    {
     "output_type": "error",
     "ename": "NameError",
     "evalue": "name 'f' is not defined",
     "traceback": [
      "\u001b[0;31m---------------------------------------------------------------------------\u001b[0m",
      "\u001b[0;31mNameError\u001b[0m                                 Traceback (most recent call last)",
      "\u001b[0;32m<ipython-input-137-bfcb72baebc1>\u001b[0m in \u001b[0;36m<module>\u001b[0;34m\u001b[0m\n\u001b[1;32m      4\u001b[0m \u001b[0;32mfor\u001b[0m \u001b[0mbatch\u001b[0m \u001b[0;32min\u001b[0m \u001b[0mbatches\u001b[0m\u001b[0;34m:\u001b[0m\u001b[0;34m\u001b[0m\u001b[0;34m\u001b[0m\u001b[0m\n\u001b[1;32m      5\u001b[0m     \u001b[0mbatch\u001b[0m \u001b[0;34m=\u001b[0m \u001b[0mbatch\u001b[0m\u001b[0;34m+\u001b[0m\u001b[0;34m\".xlsx\"\u001b[0m\u001b[0;34m\u001b[0m\u001b[0;34m\u001b[0m\u001b[0m\n\u001b[0;32m----> 6\u001b[0;31m     \u001b[0mdata\u001b[0m \u001b[0;34m=\u001b[0m \u001b[0mpd\u001b[0m\u001b[0;34m.\u001b[0m\u001b[0mread_excel\u001b[0m\u001b[0;34m(\u001b[0m\u001b[0mf\u001b[0m\u001b[0;34m,\u001b[0m \u001b[0;34m'Sheet1'\u001b[0m\u001b[0;34m)\u001b[0m\u001b[0;34m\u001b[0m\u001b[0;34m\u001b[0m\u001b[0m\n\u001b[0m\u001b[1;32m      7\u001b[0m     \u001b[0mdf\u001b[0m \u001b[0;34m=\u001b[0m \u001b[0mdf\u001b[0m\u001b[0;34m.\u001b[0m\u001b[0mappend\u001b[0m\u001b[0;34m(\u001b[0m\u001b[0mdata\u001b[0m\u001b[0;34m)\u001b[0m\u001b[0;34m\u001b[0m\u001b[0;34m\u001b[0m\u001b[0m\n\u001b[1;32m      8\u001b[0m \u001b[0;34m\u001b[0m\u001b[0m\n",
      "\u001b[0;31mNameError\u001b[0m: name 'f' is not defined"
     ]
    }
   ],
   "source": [
    "batches = ['batch_1','batch_2','batch_3','batch_4']\n",
    "df = pd.DataFrame()\n",
    "\n",
    "for batch in batches:\n",
    "    batch = batch+\".xlsx\"\n",
    "    data = pd.read_excel(batch, 'Sheet1')\n",
    "    df = df.append(data)\n",
    "\n",
    "df.to_excel(\"Metadata.xlsx\",index=False)"
   ]
  },
  {
   "source": [
    "ROUGH"
   ],
   "cell_type": "markdown",
   "metadata": {}
  },
  {
   "cell_type": "code",
   "execution_count": 123,
   "metadata": {},
   "outputs": [],
   "source": [
    "def make_clickable(url):\n",
    "    return '<a href=\"{}\" rel=\"noopener noreferrer\" target=\"_blank\">{}</a>'.format(url,url)\n",
    "\n",
    "df.apply(lambda x: make_clickable(x['Paper DOI']), axis=1).to_excel('batch_1.xlsx',index=False)"
   ]
  },
  {
   "cell_type": "code",
   "execution_count": 63,
   "metadata": {},
   "outputs": [],
   "source": [
    "soup = BeautifulSoup(page.content, 'lxml')\n"
   ]
  },
  {
   "cell_type": "code",
   "execution_count": 64,
   "metadata": {},
   "outputs": [
    {
     "output_type": "stream",
     "name": "stdout",
     "text": [
      "Structure of the SARS-CoV-2 spike glycoprotein (closed state)\nDeposited:&nbsp2020-02-25&nbspReleased:&nbsp2020-03-11&nbsp\n"
     ]
    }
   ],
   "source": [
    "structure_title = soup.find(id='structureTitle')\n",
    "print(structure_title.text.strip())\n",
    "\n",
    "\n",
    "deposited_released_date = soup.find(id='header_deposited-released-dates')\n",
    "print(deposited_released_date.text.strip())"
   ]
  },
  {
   "cell_type": "code",
   "execution_count": 65,
   "metadata": {},
   "outputs": [
    {
     "output_type": "stream",
     "name": "stdout",
     "text": [
      "2020-02-25 2020-03-11\n"
     ]
    }
   ],
   "source": [
    "deposited_released = deposited_released_date.text.strip().split(\":\")\n",
    "deposited_date = deposited_released[1].split(\"&nbsp\")[1].strip()\n",
    "released_date = deposited_released[2].split(\"&nbsp\")[1]\n",
    "# released_date = deposited_released_date.split(\":\")[3].strip()\n",
    "print(deposited_date,released_date)"
   ]
  },
  {
   "cell_type": "code",
   "execution_count": 66,
   "metadata": {},
   "outputs": [
    {
     "output_type": "stream",
     "name": "stdout",
     "text": [
      "https://www.emdataresource.org/EMD-21452\n"
     ]
    }
   ],
   "source": [
    "emData_Map = soup.find(id=\"header_emdb\")\n",
    "a_emData = emData_Map.find('a')['href']\n",
    "print(a_emData)"
   ]
  },
  {
   "cell_type": "code",
   "execution_count": 67,
   "metadata": {},
   "outputs": [
    {
     "output_type": "stream",
     "name": "stdout",
     "text": [
      "http://dx.doi.org/10.1016/j.cell.2020.02.058\nThe emergence of SARS-CoV-2 has resulted in >90,000 infections and >3,000 deaths. Coronavirus spike (S) glycoproteins promote entry into cells and are the main target of antibodies. We show that SARS-CoV-2 S uses ACE2 to enter cells and that the receptor-binding domains of SARS-CoV-2 S and SARS-CoV S bind with similar affinities to human ACE2, correlating with the efficient spread of SARS-CoV-2 among humans. We found that the SARS-CoV-2 S glycoprotein harbors a furin cleavage site at the boundary between the S 1 /S 2  subunits, which is processed during biogenesis and sets this virus apart from SARS-CoV and SARS-related CoVs. We determined cryo-EM structures of the SARS-CoV-2 S ectodomain trimer, providing a blueprint for the design of vaccines and inhibitors of viral entry. Finally, we demonstrate that SARS-CoV S murine polyclonal antibodies potently inhibited SARS-CoV-2 S mediated entry into cells, indicating that cross-neutralizing antibodies targeting conserved S epitopes can be elicited upon vaccination.\n"
     ]
    }
   ],
   "source": [
    "results = soup.find(id='primarycitation')\n",
    "# list_class = results.find('ul', class_=\"list-unstyled\")\n",
    "pubmedDOI = results.find('li', id=\"pubmedDOI\")\n",
    "# print(list_class)\n",
    "# print(results.prettify())\n",
    "a_paper_link= pubmedDOI.find('a')\n",
    "print(a_paper_link['href'])\n",
    "\n",
    "abstractText = results.find(id='abstractFull')\n",
    "abstractText = abstractText.find('p')\n",
    "print(abstractText.text.strip())"
   ]
  },
  {
   "cell_type": "code",
   "execution_count": null,
   "metadata": {},
   "outputs": [],
   "source": [
    "with open()"
   ]
  },
  {
   "cell_type": "code",
   "execution_count": null,
   "metadata": {},
   "outputs": [],
   "source": [
    "import pandas as pd\n"
   ]
  },
  {
   "cell_type": "code",
   "execution_count": 45,
   "metadata": {},
   "outputs": [
    {
     "output_type": "stream",
     "name": "stdout",
     "text": [
      "True\n"
     ]
    }
   ],
   "source": [
    "def is_downloadable(url):\n",
    "    \"\"\"\n",
    "    Does the url contain a downloadable resource\n",
    "    \"\"\"\n",
    "    h = requests.head(url, allow_redirects=True)\n",
    "    header = h.headers\n",
    "    content_type = header.get('content-type')\n",
    "    if 'text' in content_type.lower():\n",
    "        return False\n",
    "    if 'html' in content_type.lower():\n",
    "        return False\n",
    "    return True\n",
    "print(is_downloadable(\"https://files.rcsb.org/download/6VXX.pdb\"))"
   ]
  },
  {
   "cell_type": "code",
   "execution_count": null,
   "metadata": {},
   "outputs": [],
   "source": [
    "<li id=\"header_emdb\"><strong>EMDataResource:&nbsp;</strong><a href=\"https://www.emdataresource.org/EMD-21452\" target=\"_blank\" rel=\"noopener\">EMD-21452</a></li>\n",
    "<li id=\"header_deposited-released-dates\"><strong>Deposited:&nbsp;</strong>2020-02-25&nbsp;<strong>Released:&nbsp;</strong>2020-03-11&nbsp;</li>"
   ]
  },
  {
   "cell_type": "code",
   "execution_count": null,
   "metadata": {},
   "outputs": [],
   "source": [
    "<a href=\"//files.rcsb.org/download/6VXX.pdb\">PDB Format</a>"
   ]
  }
 ]
}